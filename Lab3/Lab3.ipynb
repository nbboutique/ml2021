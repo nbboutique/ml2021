{
 "cells": [
  {
   "cell_type": "markdown",
   "source": [
    "<h1>Лабораторна робота 2</h1>\r\n",
    "<h2>Студентки групи МІТ-31</h2>\r\n",
    "<h2>Агафонової Мирослави</h2>"
   ],
   "metadata": {}
  },
  {
   "cell_type": "markdown",
   "source": [
    "<h2>Завдання 1</h2>"
   ],
   "metadata": {}
  },
  {
   "cell_type": "code",
   "execution_count": 1,
   "source": [
    "#classification\r\n",
    "from sklearn.datasets import make_blobs\r\n",
    "from matplotlib import pyplot\r\n",
    "from pandas import DataFrame\r\n",
    "# generate 2d classification dataset\r\n",
    "X, y = make_blobs(n_samples=100, centers=3, n_features=2)\r\n",
    "# scatter plot, dots colored by class value\r\n",
    "df = DataFrame(dict(x=X[:,0], y=X[:,1], label=y))\r\n",
    "colors = {0:'red', 1:'blue', 2:'green'}\r\n",
    "fig, ax = pyplot.subplots()\r\n",
    "grouped = df.groupby('label')\r\n",
    "for key, group in grouped:\r\n",
    "    group.plot(ax=ax, kind='scatter', x='x', y='y', label=key, color=colors[key])\r\n",
    "pyplot.show()"
   ],
   "outputs": [
    {
     "output_type": "display_data",
     "data": {
      "image/png": "[encoded data removed]",
      "text/plain": [
       "<Figure size 432x288 with 1 Axes>"
      ]
     },
     "metadata": {
      "needs_background": "light"
     }
    }
   ],
   "metadata": {}
  },
  {
   "cell_type": "code",
   "execution_count": 9,
   "source": [
    "print(X,y)"
   ],
   "outputs": [
    {
     "output_type": "stream",
     "name": "stdout",
     "text": [
      "[[ 5.41030814  6.43972011]\n",
      " [-2.45883325  0.68503037]\n",
      " [ 8.51259826  8.55491066]\n",
      " [ 3.7824916   6.63462728]\n",
      " [ 8.35311903  5.60074455]\n",
      " [-0.90322054  0.87051099]\n",
      " [ 5.39878443  6.63764776]\n",
      " [ 8.84403606  6.60636126]\n",
      " [ 2.46446345  5.53727905]\n",
      " [ 4.68453377  6.40764605]\n",
      " [ 8.76215834  6.37639535]\n",
      " [-0.56177963  2.54116773]\n",
      " [ 0.33367984  0.73285666]\n",
      " [ 4.72376096  5.91495873]\n",
      " [ 9.35989871  6.91906731]\n",
      " [ 3.33682448  3.66412859]\n",
      " [ 9.5669211   4.72621945]\n",
      " [ 3.8443767   6.06505028]\n",
      " [ 8.2939761   6.55001375]\n",
      " [ 8.60594531  6.21311997]\n",
      " [ 3.74009923  6.78649924]\n",
      " [-1.2238704   2.18910891]\n",
      " [-2.84653     0.73927442]\n",
      " [ 2.08492113  3.99731423]\n",
      " [-4.04392121  0.78261931]\n",
      " [-0.28779221  2.61885881]\n",
      " [-1.22358136  0.27908255]\n",
      " [-1.23613921  1.38678188]\n",
      " [ 8.66275716  6.76672624]\n",
      " [ 5.07416142  7.17213374]\n",
      " [ 8.09639207  6.4863797 ]\n",
      " [ 3.76382454  5.00406683]\n",
      " [ 7.12594042  5.91139505]\n",
      " [ 9.77497025  6.59823225]\n",
      " [-2.00978767  1.98219945]\n",
      " [-0.0420827   0.4963943 ]\n",
      " [ 3.65974286  5.97344106]\n",
      " [ 8.23772306  5.60510039]\n",
      " [-0.3545488   1.61757885]\n",
      " [ 8.36318133  6.75314828]\n",
      " [-1.69467431  1.03113912]\n",
      " [-0.78315624  1.98251953]\n",
      " [ 4.22029693  7.77300861]\n",
      " [ 8.30958364  6.3150756 ]\n",
      " [ 2.72114962  7.44342308]\n",
      " [ 8.82900551  7.96560503]\n",
      " [ 4.95954163  6.25508388]\n",
      " [ 7.81702613  6.34033903]\n",
      " [ 8.70262625  5.1276555 ]\n",
      " [ 7.44938345  7.32069264]\n",
      " [ 4.49931175  4.06262459]\n",
      " [-0.55237071  3.81631128]\n",
      " [ 2.6206124   7.74207191]\n",
      " [ 1.69512848  4.33630847]\n",
      " [ 1.95616463  7.24498984]\n",
      " [ 3.61929112  5.68509584]\n",
      " [ 8.40946672  7.18583751]\n",
      " [-2.76348146  0.46357939]\n",
      " [-2.4456856   2.66958266]\n",
      " [-0.85967101  2.7399619 ]\n",
      " [ 7.85815447  7.50941969]\n",
      " [ 4.06135182  6.62221928]\n",
      " [ 8.17866423  6.55006828]\n",
      " [ 3.09765     6.39847905]\n",
      " [ 4.25829734  7.52324248]\n",
      " [ 9.16902412  6.03782352]\n",
      " [-1.40829383  1.97345356]\n",
      " [ 2.94362806  5.2637845 ]\n",
      " [ 8.09310271  7.04659914]\n",
      " [-0.54786091  1.70738535]\n",
      " [ 9.79887883  5.44710534]\n",
      " [-1.28317654  1.13459392]\n",
      " [10.16506961  6.77665289]\n",
      " [ 4.33868228  4.48317889]\n",
      " [ 6.9349891   5.59006704]\n",
      " [ 2.87308976  6.76376269]\n",
      " [-1.03966814  1.29826452]\n",
      " [-1.78215919 -0.32865205]\n",
      " [ 2.52592428  5.95365192]\n",
      " [-0.26114138  0.72441424]\n",
      " [ 7.67609924  6.63313957]\n",
      " [ 8.15051387  7.85183442]\n",
      " [ 7.72744936  6.57075626]\n",
      " [ 3.4472612   4.855016  ]\n",
      " [-0.68501198  0.82881471]\n",
      " [-2.1448069   1.80593219]\n",
      " [-0.86930437  2.57390677]\n",
      " [ 3.77175581  4.33920499]\n",
      " [10.42901729  8.37482517]\n",
      " [ 7.95069644  8.728519  ]\n",
      " [ 3.4482606   5.8529497 ]\n",
      " [ 0.07640482  1.57167817]\n",
      " [ 9.40663276  7.03618262]\n",
      " [ 4.54412602  5.42755553]\n",
      " [ 3.92169776  5.40422864]\n",
      " [ 3.83982374  5.5386297 ]\n",
      " [-2.62617107  1.01213215]\n",
      " [-1.71011623  2.04200554]\n",
      " [-1.30831444  2.29966612]\n",
      " [-1.68492047 -0.24306871]] [0 2 1 0 1 2 0 1 0 0 1 2 2 0 1 0 1 0 1 1 0 2 2 0 2 2 2 2 1 0 1 0 1 1 2 2 0\n",
      " 1 2 1 2 2 0 1 0 1 0 1 1 1 0 2 0 0 0 0 1 2 2 2 1 0 1 0 0 1 2 0 1 2 1 2 1 0\n",
      " 1 0 2 2 0 2 1 1 1 0 2 2 2 0 1 1 0 2 1 0 0 0 2 2 2 2]\n"
     ]
    }
   ],
   "metadata": {}
  },
  {
   "cell_type": "code",
   "execution_count": 17,
   "source": [
    "#write to our file\r\n",
    "df.to_csv('sklearn_data_set.csv')\r\n",
    "df.head()"
   ],
   "outputs": [
    {
     "output_type": "execute_result",
     "data": {
      "text/html": [
       "<div>\n",
       "<style scoped>\n",
       "    .dataframe tbody tr th:only-of-type {\n",
       "        vertical-align: middle;\n",
       "    }\n",
       "\n",
       "    .dataframe tbody tr th {\n",
       "        vertical-align: top;\n",
       "    }\n",
       "\n",
       "    .dataframe thead th {\n",
       "        text-align: right;\n",
       "    }\n",
       "</style>\n",
       "<table border=\"1\" class=\"dataframe\">\n",
       "  <thead>\n",
       "    <tr style=\"text-align: right;\">\n",
       "      <th></th>\n",
       "      <th>x</th>\n",
       "      <th>y</th>\n",
       "      <th>label</th>\n",
       "    </tr>\n",
       "  </thead>\n",
       "  <tbody>\n",
       "    <tr>\n",
       "      <th>0</th>\n",
       "      <td>5.410308</td>\n",
       "      <td>6.439720</td>\n",
       "      <td>0</td>\n",
       "    </tr>\n",
       "    <tr>\n",
       "      <th>1</th>\n",
       "      <td>-2.458833</td>\n",
       "      <td>0.685030</td>\n",
       "      <td>2</td>\n",
       "    </tr>\n",
       "    <tr>\n",
       "      <th>2</th>\n",
       "      <td>8.512598</td>\n",
       "      <td>8.554911</td>\n",
       "      <td>1</td>\n",
       "    </tr>\n",
       "    <tr>\n",
       "      <th>3</th>\n",
       "      <td>3.782492</td>\n",
       "      <td>6.634627</td>\n",
       "      <td>0</td>\n",
       "    </tr>\n",
       "    <tr>\n",
       "      <th>4</th>\n",
       "      <td>8.353119</td>\n",
       "      <td>5.600745</td>\n",
       "      <td>1</td>\n",
       "    </tr>\n",
       "  </tbody>\n",
       "</table>\n",
       "</div>"
      ],
      "text/plain": [
       "          x         y  label\n",
       "0  5.410308  6.439720      0\n",
       "1 -2.458833  0.685030      2\n",
       "2  8.512598  8.554911      1\n",
       "3  3.782492  6.634627      0\n",
       "4  8.353119  5.600745      1"
      ]
     },
     "metadata": {},
     "execution_count": 17
    }
   ],
   "metadata": {}
  },
  {
   "cell_type": "code",
   "execution_count": 16,
   "source": [
    "df.info()"
   ],
   "outputs": [
    {
     "output_type": "stream",
     "name": "stdout",
     "text": [
      "<class 'pandas.core.frame.DataFrame'>\n",
      "RangeIndex: 100 entries, 0 to 99\n",
      "Data columns (total 3 columns):\n",
      " #   Column  Non-Null Count  Dtype  \n",
      "---  ------  --------------  -----  \n",
      " 0   x       100 non-null    float64\n",
      " 1   y       100 non-null    float64\n",
      " 2   label   100 non-null    int32  \n",
      "dtypes: float64(2), int32(1)\n",
      "memory usage: 2.1 KB\n"
     ]
    }
   ],
   "metadata": {}
  },
  {
   "cell_type": "code",
   "execution_count": 15,
   "source": [
    "df.describe()"
   ],
   "outputs": [
    {
     "output_type": "execute_result",
     "data": {
      "text/html": [
       "<div>\n",
       "<style scoped>\n",
       "    .dataframe tbody tr th:only-of-type {\n",
       "        vertical-align: middle;\n",
       "    }\n",
       "\n",
       "    .dataframe tbody tr th {\n",
       "        vertical-align: top;\n",
       "    }\n",
       "\n",
       "    .dataframe thead th {\n",
       "        text-align: right;\n",
       "    }\n",
       "</style>\n",
       "<table border=\"1\" class=\"dataframe\">\n",
       "  <thead>\n",
       "    <tr style=\"text-align: right;\">\n",
       "      <th></th>\n",
       "      <th>x</th>\n",
       "      <th>y</th>\n",
       "      <th>label</th>\n",
       "    </tr>\n",
       "  </thead>\n",
       "  <tbody>\n",
       "    <tr>\n",
       "      <th>count</th>\n",
       "      <td>100.000000</td>\n",
       "      <td>100.000000</td>\n",
       "      <td>100.000000</td>\n",
       "    </tr>\n",
       "    <tr>\n",
       "      <th>mean</th>\n",
       "      <td>3.637144</td>\n",
       "      <td>4.693041</td>\n",
       "      <td>0.990000</td>\n",
       "    </tr>\n",
       "    <tr>\n",
       "      <th>std</th>\n",
       "      <td>4.121732</td>\n",
       "      <td>2.510031</td>\n",
       "      <td>0.822598</td>\n",
       "    </tr>\n",
       "    <tr>\n",
       "      <th>min</th>\n",
       "      <td>-4.043921</td>\n",
       "      <td>-0.328652</td>\n",
       "      <td>0.000000</td>\n",
       "    </tr>\n",
       "    <tr>\n",
       "      <th>25%</th>\n",
       "      <td>-0.554723</td>\n",
       "      <td>2.152333</td>\n",
       "      <td>0.000000</td>\n",
       "    </tr>\n",
       "    <tr>\n",
       "      <th>50%</th>\n",
       "      <td>3.767790</td>\n",
       "      <td>5.595406</td>\n",
       "      <td>1.000000</td>\n",
       "    </tr>\n",
       "    <tr>\n",
       "      <th>75%</th>\n",
       "      <td>7.986298</td>\n",
       "      <td>6.624949</td>\n",
       "      <td>2.000000</td>\n",
       "    </tr>\n",
       "    <tr>\n",
       "      <th>max</th>\n",
       "      <td>10.429017</td>\n",
       "      <td>8.728519</td>\n",
       "      <td>2.000000</td>\n",
       "    </tr>\n",
       "  </tbody>\n",
       "</table>\n",
       "</div>"
      ],
      "text/plain": [
       "                x           y       label\n",
       "count  100.000000  100.000000  100.000000\n",
       "mean     3.637144    4.693041    0.990000\n",
       "std      4.121732    2.510031    0.822598\n",
       "min     -4.043921   -0.328652    0.000000\n",
       "25%     -0.554723    2.152333    0.000000\n",
       "50%      3.767790    5.595406    1.000000\n",
       "75%      7.986298    6.624949    2.000000\n",
       "max     10.429017    8.728519    2.000000"
      ]
     },
     "metadata": {},
     "execution_count": 15
    }
   ],
   "metadata": {}
  },
  {
   "cell_type": "code",
   "execution_count": 18,
   "source": [
    "corr = df.corr()\r\n",
    "sns.heatmap(corr, cmap=\"rainbow\")"
   ],
   "outputs": [
    {
     "output_type": "execute_result",
     "data": {
      "text/plain": [
       "<AxesSubplot:>"
      ]
     },
     "metadata": {},
     "execution_count": 18
    },
    {
     "output_type": "display_data",
     "data": {
      "image/png": "[encoded data removed]",
      "text/plain": [
       "<Figure size 432x288 with 2 Axes>"
      ]
     },
     "metadata": {
      "needs_background": "light"
     }
    }
   ],
   "metadata": {}
  },
  {
   "cell_type": "markdown",
   "source": [
    "<h2>Завдання 2</h2>"
   ],
   "metadata": {}
  },
  {
   "cell_type": "code",
   "execution_count": 28,
   "source": [
    "import random as rnd\r\n",
    "from sklearn.metrics import mean_absolute_error\r\n",
    "from sklearn.linear_model import LinearRegression\r\n",
    "from sklearn.metrics import mean_squared_error \r\n",
    "import sklearn\r\n",
    "from sklearn.model_selection import train_test_split\r\n",
    "\r\n",
    "Laptop_param = {0:'Asus', 1:'Lenovo'}\r\n",
    "time = {0:'<120', 1:'>120'}\r\n",
    "version = {0:'new', 1:'unpacked'}\r\n",
    "supported = {0:'YES', 1:'NO'}\r\n",
    "copies = {0:'0', 1:'1', 2:'2', 3:'More than 3'}\r\n",
    "store = {0:'cactus', 1:'foxtrot', 2:'comfy', 3:'eldorado'}\r\n",
    "data = []\r\n",
    "for i in range(0, 512):\r\n",
    "    row = []\r\n",
    "    row.append(round(rnd.uniform(1, 50), 2))\r\n",
    "    row.append(round(rnd.uniform(1, 10), 2))\r\n",
    "    row.append(Laptop_param[rnd.randint(0, 1)])\r\n",
    "    row.append(time[rnd.randint(0, 1)])\r\n",
    "    row.append(version[rnd.randint(0, 1)])\r\n",
    "    row.append(supported[rnd.randint(0, 1)])\r\n",
    "    row.append(copies[rnd.randint(0, 3)])\r\n",
    "    row.append(store[rnd.randint(0, 3)])\r\n",
    "    data.append(row)\r\n",
    "df = pd.DataFrame(data, columns=['total_utility_bill', 'commission', 'Laptop_param', 'time', 'version', 'supported', 'copies', 'store'])"
   ],
   "outputs": [],
   "metadata": {}
  },
  {
   "cell_type": "code",
   "execution_count": 44,
   "source": [
    "\r\n",
    "df.replace({'Asus': 0, 'Lenovo':1, '<120': 0, '>120':1, 'new':0, 'unpacked':1, 'YES':0, 'NO':1, '5':5, '6':6, '7':7, 'More than 7':8, 'cactus': 0\r\n",
    ", 'foxtrot':1, 'comfy':2, 'eldorado':3}, None, True)\r\n",
    "\r\n",
    "df.to_csv('data_set.csv')"
   ],
   "outputs": [],
   "metadata": {}
  },
  {
   "cell_type": "code",
   "execution_count": 46,
   "source": [
    "df.head()"
   ],
   "outputs": [
    {
     "output_type": "execute_result",
     "data": {
      "text/html": [
       "<div>\n",
       "<style scoped>\n",
       "    .dataframe tbody tr th:only-of-type {\n",
       "        vertical-align: middle;\n",
       "    }\n",
       "\n",
       "    .dataframe tbody tr th {\n",
       "        vertical-align: top;\n",
       "    }\n",
       "\n",
       "    .dataframe thead th {\n",
       "        text-align: right;\n",
       "    }\n",
       "</style>\n",
       "<table border=\"1\" class=\"dataframe\">\n",
       "  <thead>\n",
       "    <tr style=\"text-align: right;\">\n",
       "      <th></th>\n",
       "      <th>total_utility_bill</th>\n",
       "      <th>commission</th>\n",
       "      <th>Laptop_param</th>\n",
       "      <th>time</th>\n",
       "      <th>version</th>\n",
       "      <th>supported</th>\n",
       "      <th>copies</th>\n",
       "      <th>store</th>\n",
       "    </tr>\n",
       "  </thead>\n",
       "  <tbody>\n",
       "    <tr>\n",
       "      <th>0</th>\n",
       "      <td>3.01</td>\n",
       "      <td>4.67</td>\n",
       "      <td>0</td>\n",
       "      <td>1</td>\n",
       "      <td>0</td>\n",
       "      <td>0</td>\n",
       "      <td>3</td>\n",
       "      <td>3</td>\n",
       "    </tr>\n",
       "    <tr>\n",
       "      <th>1</th>\n",
       "      <td>2.23</td>\n",
       "      <td>4.88</td>\n",
       "      <td>1</td>\n",
       "      <td>1</td>\n",
       "      <td>0</td>\n",
       "      <td>1</td>\n",
       "      <td>3</td>\n",
       "      <td>3</td>\n",
       "    </tr>\n",
       "    <tr>\n",
       "      <th>2</th>\n",
       "      <td>16.94</td>\n",
       "      <td>3.75</td>\n",
       "      <td>0</td>\n",
       "      <td>1</td>\n",
       "      <td>0</td>\n",
       "      <td>1</td>\n",
       "      <td>5</td>\n",
       "      <td>0</td>\n",
       "    </tr>\n",
       "    <tr>\n",
       "      <th>3</th>\n",
       "      <td>30.67</td>\n",
       "      <td>9.49</td>\n",
       "      <td>0</td>\n",
       "      <td>1</td>\n",
       "      <td>0</td>\n",
       "      <td>0</td>\n",
       "      <td>5</td>\n",
       "      <td>1</td>\n",
       "    </tr>\n",
       "    <tr>\n",
       "      <th>4</th>\n",
       "      <td>33.32</td>\n",
       "      <td>5.97</td>\n",
       "      <td>0</td>\n",
       "      <td>1</td>\n",
       "      <td>0</td>\n",
       "      <td>0</td>\n",
       "      <td>5</td>\n",
       "      <td>1</td>\n",
       "    </tr>\n",
       "  </tbody>\n",
       "</table>\n",
       "</div>"
      ],
      "text/plain": [
       "   total_utility_bill  commission  Laptop_param  time  version  supported  \\\n",
       "0                3.01        4.67             0     1        0          0   \n",
       "1                2.23        4.88             1     1        0          1   \n",
       "2               16.94        3.75             0     1        0          1   \n",
       "3               30.67        9.49             0     1        0          0   \n",
       "4               33.32        5.97             0     1        0          0   \n",
       "\n",
       "   copies  store  \n",
       "0       3      3  \n",
       "1       3      3  \n",
       "2       5      0  \n",
       "3       5      1  \n",
       "4       5      1  "
      ]
     },
     "metadata": {},
     "execution_count": 46
    }
   ],
   "metadata": {}
  },
  {
   "cell_type": "code",
   "execution_count": 47,
   "source": [
    "df.info()"
   ],
   "outputs": [
    {
     "output_type": "stream",
     "name": "stdout",
     "text": [
      "<class 'pandas.core.frame.DataFrame'>\n",
      "RangeIndex: 512 entries, 0 to 511\n",
      "Data columns (total 8 columns):\n",
      " #   Column              Non-Null Count  Dtype  \n",
      "---  ------              --------------  -----  \n",
      " 0   total_utility_bill  512 non-null    float64\n",
      " 1   commission          512 non-null    float64\n",
      " 2   Laptop_param        512 non-null    int64  \n",
      " 3   time                512 non-null    int64  \n",
      " 4   version             512 non-null    int64  \n",
      " 5   supported           512 non-null    int64  \n",
      " 6   copies              512 non-null    int64  \n",
      " 7   store               512 non-null    int64  \n",
      "dtypes: float64(2), int64(6)\n",
      "memory usage: 32.1 KB\n"
     ]
    }
   ],
   "metadata": {}
  },
  {
   "cell_type": "code",
   "execution_count": 48,
   "source": [
    "df.describe()"
   ],
   "outputs": [
    {
     "output_type": "execute_result",
     "data": {
      "text/html": [
       "<div>\n",
       "<style scoped>\n",
       "    .dataframe tbody tr th:only-of-type {\n",
       "        vertical-align: middle;\n",
       "    }\n",
       "\n",
       "    .dataframe tbody tr th {\n",
       "        vertical-align: top;\n",
       "    }\n",
       "\n",
       "    .dataframe thead th {\n",
       "        text-align: right;\n",
       "    }\n",
       "</style>\n",
       "<table border=\"1\" class=\"dataframe\">\n",
       "  <thead>\n",
       "    <tr style=\"text-align: right;\">\n",
       "      <th></th>\n",
       "      <th>total_utility_bill</th>\n",
       "      <th>commission</th>\n",
       "      <th>Laptop_param</th>\n",
       "      <th>time</th>\n",
       "      <th>version</th>\n",
       "      <th>supported</th>\n",
       "      <th>copies</th>\n",
       "      <th>store</th>\n",
       "    </tr>\n",
       "  </thead>\n",
       "  <tbody>\n",
       "    <tr>\n",
       "      <th>count</th>\n",
       "      <td>512.000000</td>\n",
       "      <td>512.000000</td>\n",
       "      <td>512.000000</td>\n",
       "      <td>512.000000</td>\n",
       "      <td>512.000000</td>\n",
       "      <td>512.000000</td>\n",
       "      <td>512.000000</td>\n",
       "      <td>512.000000</td>\n",
       "    </tr>\n",
       "    <tr>\n",
       "      <th>mean</th>\n",
       "      <td>26.514199</td>\n",
       "      <td>5.561562</td>\n",
       "      <td>0.488281</td>\n",
       "      <td>0.503906</td>\n",
       "      <td>0.480469</td>\n",
       "      <td>0.476562</td>\n",
       "      <td>5.201172</td>\n",
       "      <td>1.603516</td>\n",
       "    </tr>\n",
       "    <tr>\n",
       "      <th>std</th>\n",
       "      <td>14.163111</td>\n",
       "      <td>2.578534</td>\n",
       "      <td>0.500352</td>\n",
       "      <td>0.500474</td>\n",
       "      <td>0.500107</td>\n",
       "      <td>0.499939</td>\n",
       "      <td>1.432280</td>\n",
       "      <td>1.117827</td>\n",
       "    </tr>\n",
       "    <tr>\n",
       "      <th>min</th>\n",
       "      <td>1.020000</td>\n",
       "      <td>1.060000</td>\n",
       "      <td>0.000000</td>\n",
       "      <td>0.000000</td>\n",
       "      <td>0.000000</td>\n",
       "      <td>0.000000</td>\n",
       "      <td>3.000000</td>\n",
       "      <td>0.000000</td>\n",
       "    </tr>\n",
       "    <tr>\n",
       "      <th>25%</th>\n",
       "      <td>14.765000</td>\n",
       "      <td>3.222500</td>\n",
       "      <td>0.000000</td>\n",
       "      <td>0.000000</td>\n",
       "      <td>0.000000</td>\n",
       "      <td>0.000000</td>\n",
       "      <td>5.000000</td>\n",
       "      <td>1.000000</td>\n",
       "    </tr>\n",
       "    <tr>\n",
       "      <th>50%</th>\n",
       "      <td>26.200000</td>\n",
       "      <td>5.690000</td>\n",
       "      <td>0.000000</td>\n",
       "      <td>1.000000</td>\n",
       "      <td>0.000000</td>\n",
       "      <td>0.000000</td>\n",
       "      <td>5.000000</td>\n",
       "      <td>2.000000</td>\n",
       "    </tr>\n",
       "    <tr>\n",
       "      <th>75%</th>\n",
       "      <td>38.877500</td>\n",
       "      <td>7.760000</td>\n",
       "      <td>1.000000</td>\n",
       "      <td>1.000000</td>\n",
       "      <td>1.000000</td>\n",
       "      <td>1.000000</td>\n",
       "      <td>6.000000</td>\n",
       "      <td>3.000000</td>\n",
       "    </tr>\n",
       "    <tr>\n",
       "      <th>max</th>\n",
       "      <td>49.960000</td>\n",
       "      <td>9.920000</td>\n",
       "      <td>1.000000</td>\n",
       "      <td>1.000000</td>\n",
       "      <td>1.000000</td>\n",
       "      <td>1.000000</td>\n",
       "      <td>7.000000</td>\n",
       "      <td>3.000000</td>\n",
       "    </tr>\n",
       "  </tbody>\n",
       "</table>\n",
       "</div>"
      ],
      "text/plain": [
       "       total_utility_bill  commission  Laptop_param        time     version  \\\n",
       "count          512.000000  512.000000    512.000000  512.000000  512.000000   \n",
       "mean            26.514199    5.561562      0.488281    0.503906    0.480469   \n",
       "std             14.163111    2.578534      0.500352    0.500474    0.500107   \n",
       "min              1.020000    1.060000      0.000000    0.000000    0.000000   \n",
       "25%             14.765000    3.222500      0.000000    0.000000    0.000000   \n",
       "50%             26.200000    5.690000      0.000000    1.000000    0.000000   \n",
       "75%             38.877500    7.760000      1.000000    1.000000    1.000000   \n",
       "max             49.960000    9.920000      1.000000    1.000000    1.000000   \n",
       "\n",
       "        supported      copies       store  \n",
       "count  512.000000  512.000000  512.000000  \n",
       "mean     0.476562    5.201172    1.603516  \n",
       "std      0.499939    1.432280    1.117827  \n",
       "min      0.000000    3.000000    0.000000  \n",
       "25%      0.000000    5.000000    1.000000  \n",
       "50%      0.000000    5.000000    2.000000  \n",
       "75%      1.000000    6.000000    3.000000  \n",
       "max      1.000000    7.000000    3.000000  "
      ]
     },
     "metadata": {},
     "execution_count": 48
    }
   ],
   "metadata": {}
  },
  {
   "cell_type": "code",
   "execution_count": 49,
   "source": [
    "corr = df.corr()\r\n",
    "sns.heatmap(corr, cmap=\"YlGnBu\")"
   ],
   "outputs": [
    {
     "output_type": "execute_result",
     "data": {
      "text/plain": [
       "<AxesSubplot:>"
      ]
     },
     "metadata": {},
     "execution_count": 49
    },
    {
     "output_type": "display_data",
     "data": {
      "image/png": "[encoded data removed]",
      "text/plain": [
       "<Figure size 432x288 with 2 Axes>"
      ]
     },
     "metadata": {
      "needs_background": "light"
     }
    }
   ],
   "metadata": {}
  },
  {
   "cell_type": "code",
   "execution_count": 50,
   "source": [
    "columns=df.columns\r\n",
    "columns=columns[:7]\r\n",
    "X=df[['total_utility_bill', 'commission', 'Laptop_param', 'time', 'version', 'supported', 'store']]\r\n",
    "\r\n",
    "y=df[['store']]"
   ],
   "outputs": [],
   "metadata": {}
  },
  {
   "cell_type": "code",
   "execution_count": 51,
   "source": [
    "X_train,X_test,y_train,y_test = train_test_split(X,y,test_size=0.3)"
   ],
   "outputs": [],
   "metadata": {}
  },
  {
   "cell_type": "code",
   "execution_count": 52,
   "source": [
    "lr = LinearRegression()"
   ],
   "outputs": [],
   "metadata": {}
  },
  {
   "cell_type": "code",
   "execution_count": 53,
   "source": [
    "lr.fit(X_train,y_train)"
   ],
   "outputs": [
    {
     "output_type": "execute_result",
     "data": {
      "text/plain": [
       "LinearRegression()"
      ]
     },
     "metadata": {},
     "execution_count": 53
    }
   ],
   "metadata": {}
  },
  {
   "cell_type": "code",
   "execution_count": 54,
   "source": [
    "y_Hat = lr.predict(X_test)"
   ],
   "outputs": [],
   "metadata": {}
  },
  {
   "cell_type": "code",
   "execution_count": 55,
   "source": [
    "mean_absolute_error(y_test, y_Hat)"
   ],
   "outputs": [
    {
     "output_type": "execute_result",
     "data": {
      "text/plain": [
       "5.566456940274638e-16"
      ]
     },
     "metadata": {},
     "execution_count": 55
    }
   ],
   "metadata": {}
  },
  {
   "cell_type": "code",
   "execution_count": 56,
   "source": [
    "mean_squared_error(y_test, y_Hat)"
   ],
   "outputs": [
    {
     "output_type": "execute_result",
     "data": {
      "text/plain": [
       "5.344693605006439e-31"
      ]
     },
     "metadata": {},
     "execution_count": 56
    }
   ],
   "metadata": {}
  },
  {
   "cell_type": "code",
   "execution_count": 58,
   "source": [
    "res = pd.DataFrame(y_test)\r\n",
    "res['store_predicted'] = y_Hat\r\n",
    "\r\n",
    "res.head()"
   ],
   "outputs": [
    {
     "output_type": "execute_result",
     "data": {
      "text/html": [
       "<div>\n",
       "<style scoped>\n",
       "    .dataframe tbody tr th:only-of-type {\n",
       "        vertical-align: middle;\n",
       "    }\n",
       "\n",
       "    .dataframe tbody tr th {\n",
       "        vertical-align: top;\n",
       "    }\n",
       "\n",
       "    .dataframe thead th {\n",
       "        text-align: right;\n",
       "    }\n",
       "</style>\n",
       "<table border=\"1\" class=\"dataframe\">\n",
       "  <thead>\n",
       "    <tr style=\"text-align: right;\">\n",
       "      <th></th>\n",
       "      <th>store</th>\n",
       "      <th>store_predicted</th>\n",
       "    </tr>\n",
       "  </thead>\n",
       "  <tbody>\n",
       "    <tr>\n",
       "      <th>472</th>\n",
       "      <td>2</td>\n",
       "      <td>2.000000e+00</td>\n",
       "    </tr>\n",
       "    <tr>\n",
       "      <th>119</th>\n",
       "      <td>1</td>\n",
       "      <td>1.000000e+00</td>\n",
       "    </tr>\n",
       "    <tr>\n",
       "      <th>378</th>\n",
       "      <td>0</td>\n",
       "      <td>3.696582e-16</td>\n",
       "    </tr>\n",
       "    <tr>\n",
       "      <th>504</th>\n",
       "      <td>2</td>\n",
       "      <td>2.000000e+00</td>\n",
       "    </tr>\n",
       "    <tr>\n",
       "      <th>392</th>\n",
       "      <td>0</td>\n",
       "      <td>-7.167477e-16</td>\n",
       "    </tr>\n",
       "  </tbody>\n",
       "</table>\n",
       "</div>"
      ],
      "text/plain": [
       "     store  store_predicted\n",
       "472      2     2.000000e+00\n",
       "119      1     1.000000e+00\n",
       "378      0     3.696582e-16\n",
       "504      2     2.000000e+00\n",
       "392      0    -7.167477e-16"
      ]
     },
     "metadata": {},
     "execution_count": 58
    }
   ],
   "metadata": {}
  },
  {
   "cell_type": "code",
   "execution_count": 59,
   "source": [
    "\r\n",
    "plt.scatter(res['store'],res['store_predicted'])"
   ],
   "outputs": [
    {
     "output_type": "execute_result",
     "data": {
      "text/plain": [
       "<matplotlib.collections.PathCollection at 0x1710811b310>"
      ]
     },
     "metadata": {},
     "execution_count": 59
    },
    {
     "output_type": "display_data",
     "data": {
      "image/png": "[encoded data removed]",
      "text/plain": [
       "<Figure size 432x288 with 1 Axes>"
      ]
     },
     "metadata": {
      "needs_background": "light"
     }
    }
   ],
   "metadata": {}
  },
  {
   "cell_type": "markdown",
   "source": [
    "<h2>Завдання 3</h2>"
   ],
   "metadata": {}
  },
  {
   "cell_type": "code",
   "execution_count": 5,
   "source": [
    "## for data\r\n",
    "import lime\r\n",
    "import lime.lime_tabular\r\n",
    "import pandas as pd\r\n",
    "import numpy as np\r\n",
    "## for plotting\r\n",
    "import matplotlib.pyplot as plt\r\n",
    "import seaborn as sns\r\n",
    "## for statistical tests\r\n",
    "import scipy\r\n",
    "import statsmodels.formula.api as smf\r\n",
    "import statsmodels.api as sm\r\n",
    "## for machine learning\r\n",
    "from sklearn import model_selection, preprocessing, feature_selection, ensemble, linear_model, metrics, decomposition\r\n",
    "## for explainer\r\n",
    "from lime import lime_tabular"
   ],
   "outputs": [],
   "metadata": {}
  },
  {
   "cell_type": "code",
   "execution_count": 83,
   "source": [
    "bills = pd.read_csv('bill.csv')\r\n",
    "bills.head()"
   ],
   "outputs": [
    {
     "output_type": "execute_result",
     "data": {
      "text/html": [
       "<div>\n",
       "<style scoped>\n",
       "    .dataframe tbody tr th:only-of-type {\n",
       "        vertical-align: middle;\n",
       "    }\n",
       "\n",
       "    .dataframe tbody tr th {\n",
       "        vertical-align: top;\n",
       "    }\n",
       "\n",
       "    .dataframe thead th {\n",
       "        text-align: right;\n",
       "    }\n",
       "</style>\n",
       "<table border=\"1\" class=\"dataframe\">\n",
       "  <thead>\n",
       "    <tr style=\"text-align: right;\">\n",
       "      <th></th>\n",
       "      <th>Variance</th>\n",
       "      <th>Skewness</th>\n",
       "      <th>Curtosis</th>\n",
       "      <th>Entropy</th>\n",
       "    </tr>\n",
       "  </thead>\n",
       "  <tbody>\n",
       "    <tr>\n",
       "      <th>0</th>\n",
       "      <td>3.62160</td>\n",
       "      <td>8.6661</td>\n",
       "      <td>-2.8073</td>\n",
       "      <td>-0.44699</td>\n",
       "    </tr>\n",
       "    <tr>\n",
       "      <th>1</th>\n",
       "      <td>4.54590</td>\n",
       "      <td>8.1674</td>\n",
       "      <td>-2.4586</td>\n",
       "      <td>-1.46210</td>\n",
       "    </tr>\n",
       "    <tr>\n",
       "      <th>2</th>\n",
       "      <td>3.86600</td>\n",
       "      <td>-2.6383</td>\n",
       "      <td>1.9242</td>\n",
       "      <td>0.10645</td>\n",
       "    </tr>\n",
       "    <tr>\n",
       "      <th>3</th>\n",
       "      <td>3.45660</td>\n",
       "      <td>9.5228</td>\n",
       "      <td>-4.0112</td>\n",
       "      <td>-3.59440</td>\n",
       "    </tr>\n",
       "    <tr>\n",
       "      <th>4</th>\n",
       "      <td>0.32924</td>\n",
       "      <td>-4.4552</td>\n",
       "      <td>4.5718</td>\n",
       "      <td>-0.98880</td>\n",
       "    </tr>\n",
       "  </tbody>\n",
       "</table>\n",
       "</div>"
      ],
      "text/plain": [
       "   Variance  Skewness  Curtosis  Entropy\n",
       "0   3.62160    8.6661   -2.8073 -0.44699\n",
       "1   4.54590    8.1674   -2.4586 -1.46210\n",
       "2   3.86600   -2.6383    1.9242  0.10645\n",
       "3   3.45660    9.5228   -4.0112 -3.59440\n",
       "4   0.32924   -4.4552    4.5718 -0.98880"
      ]
     },
     "metadata": {},
     "execution_count": 83
    }
   ],
   "metadata": {}
  },
  {
   "cell_type": "code",
   "execution_count": 85,
   "source": [
    "print(bills.shape)"
   ],
   "outputs": [
    {
     "output_type": "stream",
     "name": "stdout",
     "text": [
      "(1372, 4)\n"
     ]
    }
   ],
   "metadata": {}
  },
  {
   "cell_type": "code",
   "execution_count": 86,
   "source": [
    "bills.info()"
   ],
   "outputs": [
    {
     "output_type": "stream",
     "name": "stdout",
     "text": [
      "<class 'pandas.core.frame.DataFrame'>\n",
      "RangeIndex: 1372 entries, 0 to 1371\n",
      "Data columns (total 4 columns):\n",
      " #   Column    Non-Null Count  Dtype  \n",
      "---  ------    --------------  -----  \n",
      " 0   Variance  1372 non-null   float64\n",
      " 1   Skewness  1372 non-null   float64\n",
      " 2   Curtosis  1372 non-null   float64\n",
      " 3   Entropy   1372 non-null   float64\n",
      "dtypes: float64(4)\n",
      "memory usage: 43.0 KB\n"
     ]
    }
   ],
   "metadata": {}
  },
  {
   "cell_type": "code",
   "execution_count": 87,
   "source": [
    "bills.describe()"
   ],
   "outputs": [
    {
     "output_type": "execute_result",
     "data": {
      "text/html": [
       "<div>\n",
       "<style scoped>\n",
       "    .dataframe tbody tr th:only-of-type {\n",
       "        vertical-align: middle;\n",
       "    }\n",
       "\n",
       "    .dataframe tbody tr th {\n",
       "        vertical-align: top;\n",
       "    }\n",
       "\n",
       "    .dataframe thead th {\n",
       "        text-align: right;\n",
       "    }\n",
       "</style>\n",
       "<table border=\"1\" class=\"dataframe\">\n",
       "  <thead>\n",
       "    <tr style=\"text-align: right;\">\n",
       "      <th></th>\n",
       "      <th>Variance</th>\n",
       "      <th>Skewness</th>\n",
       "      <th>Curtosis</th>\n",
       "      <th>Entropy</th>\n",
       "    </tr>\n",
       "  </thead>\n",
       "  <tbody>\n",
       "    <tr>\n",
       "      <th>count</th>\n",
       "      <td>1372.000000</td>\n",
       "      <td>1372.000000</td>\n",
       "      <td>1372.000000</td>\n",
       "      <td>1372.000000</td>\n",
       "    </tr>\n",
       "    <tr>\n",
       "      <th>mean</th>\n",
       "      <td>0.433735</td>\n",
       "      <td>1.922353</td>\n",
       "      <td>1.397627</td>\n",
       "      <td>-1.191657</td>\n",
       "    </tr>\n",
       "    <tr>\n",
       "      <th>std</th>\n",
       "      <td>2.842763</td>\n",
       "      <td>5.869047</td>\n",
       "      <td>4.310030</td>\n",
       "      <td>2.101013</td>\n",
       "    </tr>\n",
       "    <tr>\n",
       "      <th>min</th>\n",
       "      <td>-7.042100</td>\n",
       "      <td>-13.773100</td>\n",
       "      <td>-5.286100</td>\n",
       "      <td>-8.548200</td>\n",
       "    </tr>\n",
       "    <tr>\n",
       "      <th>25%</th>\n",
       "      <td>-1.773000</td>\n",
       "      <td>-1.708200</td>\n",
       "      <td>-1.574975</td>\n",
       "      <td>-2.413450</td>\n",
       "    </tr>\n",
       "    <tr>\n",
       "      <th>50%</th>\n",
       "      <td>0.496180</td>\n",
       "      <td>2.319650</td>\n",
       "      <td>0.616630</td>\n",
       "      <td>-0.586650</td>\n",
       "    </tr>\n",
       "    <tr>\n",
       "      <th>75%</th>\n",
       "      <td>2.821475</td>\n",
       "      <td>6.814625</td>\n",
       "      <td>3.179250</td>\n",
       "      <td>0.394810</td>\n",
       "    </tr>\n",
       "    <tr>\n",
       "      <th>max</th>\n",
       "      <td>6.824800</td>\n",
       "      <td>12.951600</td>\n",
       "      <td>17.927400</td>\n",
       "      <td>2.449500</td>\n",
       "    </tr>\n",
       "  </tbody>\n",
       "</table>\n",
       "</div>"
      ],
      "text/plain": [
       "          Variance     Skewness     Curtosis      Entropy\n",
       "count  1372.000000  1372.000000  1372.000000  1372.000000\n",
       "mean      0.433735     1.922353     1.397627    -1.191657\n",
       "std       2.842763     5.869047     4.310030     2.101013\n",
       "min      -7.042100   -13.773100    -5.286100    -8.548200\n",
       "25%      -1.773000    -1.708200    -1.574975    -2.413450\n",
       "50%       0.496180     2.319650     0.616630    -0.586650\n",
       "75%       2.821475     6.814625     3.179250     0.394810\n",
       "max       6.824800    12.951600    17.927400     2.449500"
      ]
     },
     "metadata": {},
     "execution_count": 87
    }
   ],
   "metadata": {}
  },
  {
   "cell_type": "code",
   "execution_count": 88,
   "source": [
    "corr = bills.corr()\r\n",
    "sns.heatmap(corr, cmap=\"YlGnBu\")"
   ],
   "outputs": [
    {
     "output_type": "execute_result",
     "data": {
      "text/plain": [
       "<AxesSubplot:>"
      ]
     },
     "metadata": {},
     "execution_count": 88
    },
    {
     "output_type": "display_data",
     "data": {
      "image/png": "[encoded data removed]",
      "text/plain": [
       "<Figure size 432x288 with 2 Axes>"
      ]
     },
     "metadata": {
      "needs_background": "light"
     }
    }
   ],
   "metadata": {}
  },
  {
   "cell_type": "code",
   "execution_count": 101,
   "source": [
    "X_train,X_test,y_train,y_test = train_test_split(bills.Variance,bills.Skewness,test_size=0.3)"
   ],
   "outputs": [],
   "metadata": {}
  },
  {
   "cell_type": "code",
   "execution_count": 104,
   "source": [
    "regr = LinearRegression()#impose a linear regression"
   ],
   "outputs": [],
   "metadata": {}
  },
  {
   "cell_type": "code",
   "execution_count": 106,
   "source": [
    "regr.fit(np.array(X_train).reshape(-1,1), y_train)#This will call LinearRegression(), and then allow us to use our own data to predict."
   ],
   "outputs": [
    {
     "output_type": "execute_result",
     "data": {
      "text/plain": [
       "LinearRegression()"
      ]
     },
     "metadata": {},
     "execution_count": 106
    }
   ],
   "metadata": {}
  },
  {
   "cell_type": "code",
   "execution_count": 107,
   "source": [
    "preds = regr.predict(np.array(X_test).reshape(-1,1))#to pass in the data to give predictions."
   ],
   "outputs": [],
   "metadata": {}
  },
  {
   "cell_type": "code",
   "execution_count": 108,
   "source": [
    "y_test.head()"
   ],
   "outputs": [
    {
     "output_type": "execute_result",
     "data": {
      "text/plain": [
       "0       8.66610\n",
       "1001    1.52500\n",
       "978     0.29176\n",
       "1116    1.77340\n",
       "892    -0.69529\n",
       "Name: Skewness, dtype: float64"
      ]
     },
     "metadata": {},
     "execution_count": 108
    }
   ],
   "metadata": {}
  },
  {
   "cell_type": "code",
   "execution_count": 109,
   "source": [
    "preds"
   ],
   "outputs": [
    {
     "output_type": "execute_result",
     "data": {
      "text/plain": [
       "array([ 3.42050181e+00,  1.52882741e+00,  1.94002423e+00,  1.28919416e+00,\n",
       "        1.65834644e+00,  7.42170873e-01,  3.66595170e+00,  3.22387297e+00,\n",
       "        4.44801936e+00,  1.13755039e-01, -3.95659492e-01,  2.22573080e+00,\n",
       "        2.00491899e+00,  1.42319863e+00,  3.34752883e+00,  1.71776435e+00,\n",
       "        2.50236759e-01,  2.58976825e+00,  2.04613761e+00,  3.47925256e+00,\n",
       "        1.68651164e+00,  1.68168125e+00,  3.40839998e+00, -4.26379516e-01,\n",
       "       -1.50556256e+00,  8.12247694e-01,  9.52918509e-01,  5.66487506e-01,\n",
       "        2.84395834e+00,  2.48431685e+00,  5.86398633e-01,  3.38130016e+00,\n",
       "        2.96409742e+00,  5.14925447e-01,  3.30796516e+00,  1.85179467e+00,\n",
       "        1.48222348e+00, -5.49982217e-02,  2.15136145e+00,  4.34132676e+00,\n",
       "       -6.98410614e-02,  1.84260969e+00,  3.95230989e+00,  2.23193686e+00,\n",
       "       -5.56293151e-01,  2.24662455e+00,  2.62953878e+00,  3.64474764e+00,\n",
       "        1.14779930e+00,  2.49828050e+00,  1.27524603e+00,  3.90566097e+00,\n",
       "        1.55119609e+00,  1.08428540e+00, -6.37489172e-01,  1.61125792e+00,\n",
       "       -1.77516439e+00,  6.05482284e-01,  1.64619290e+00,  3.95556808e+00,\n",
       "        1.93056516e+00,  1.81618220e+00,  7.26397124e-01,  9.04976654e-01,\n",
       "        3.83822316e-01,  4.00268389e-01,  3.33646134e+00,  8.41054181e-01,\n",
       "        1.29477071e-01,  1.46420520e+00,  1.81618220e+00,  4.99360000e-02,\n",
       "        7.39636730e-01, -1.05391616e+00, -1.82843168e-01,  1.12032195e+00,\n",
       "        2.24315950e+00,  7.19984189e-01,  8.53776615e-01,  3.57648092e+00,\n",
       "        2.91362142e+00,  1.81030195e+00,  2.28582620e+00,  2.47526634e+00,\n",
       "        1.84260969e+00,  1.69299324e-01,  4.27730228e-01,  4.79085419e-01,\n",
       "        2.03150164e+00,  2.88248910e-01,  1.37493239e-01,  3.50412997e-01,\n",
       "        1.96943581e+00,  9.34196878e-01,  2.95452974e+00, -6.47367160e-01,\n",
       "        2.50598636e+00,  3.36738823e+00,  2.14949963e+00,  1.93049792e+00,\n",
       "        2.63662404e+00,  5.36388089e-01,  1.14055372e+00,  1.54960816e+00,\n",
       "        2.32911493e-01,  5.43731933e-01,  1.12612462e+00,  1.25971535e+00,\n",
       "        1.35609037e+00,  1.81616668e+00,  9.62434476e-01,  2.70028793e+00,\n",
       "       -1.44002109e-02,  3.57306758e+00,  3.05936052e+00,  3.34830458e+00,\n",
       "        1.86635824e+00,  2.07409593e+00,  9.58400533e-01,  4.74172284e-01,\n",
       "        2.99817906e+00,  8.92409372e-01,  1.81540644e+00,  2.58449309e+00,\n",
       "        3.41869171e+00,  1.36706994e+00,  1.56845572e+00,  1.33048001e+00,\n",
       "        2.37002182e+00,  1.78091250e-01,  2.95489176e+00,  3.36418177e+00,\n",
       "        1.00960057e+00,  3.38026582e+00, -1.74578901e+00,  3.74063135e+00,\n",
       "        1.70308183e+00,  1.18100693e+00,  2.58221753e+00,  3.80445039e+00,\n",
       "        2.46538835e+00,  3.53841705e+00,  1.44087040e+00,  1.58180123e-01,\n",
       "        3.48804449e+00, -4.66977527e-01,  3.44382627e+00,  1.66352334e+00,\n",
       "        4.51364851e+00, -2.09151857e+00,  4.22289434e+00,  3.57958395e+00,\n",
       "        5.10788070e-01,  3.43943031e+00,  4.69807208e+00,  6.74164174e-02,\n",
       "        3.70468789e+00,  1.00163612e+00,  1.93291312e+00,  2.80087790e+00,\n",
       "       -7.21633075e-01,  3.33827144e+00,  2.65756951e+00,  2.17525480e+00,\n",
       "        2.29746257e+00,  1.09305146e+00, -3.10843266e-01,  1.74395394e+00,\n",
       "        1.26302525e+00,  3.92148787e-01,  1.84260969e+00,  5.58885076e-01,\n",
       "        2.18166773e+00,  3.14805554e+00,  2.66077598e+00,  8.14471534e-01,\n",
       "        1.64308469e+00,  1.52268289e+00,  1.19025913e+00, -7.26339341e-01,\n",
       "        1.48188215e+00,  2.31323632e+00,  3.68152001e-01,  1.90011923e+00,\n",
       "        2.87421434e-01,  1.10941479e+00,  3.39345514e-01,  1.67367025e+00,\n",
       "        2.99357623e+00,  9.78363377e-01,  7.67719175e-01,  2.00713249e+00,\n",
       "        2.35900605e+00,  1.53441959e+00,  2.07937109e+00,  4.85808657e-01,\n",
       "        6.68939302e-01,  6.85799113e-01,  3.79633079e+00,  3.47103096e-01,\n",
       "       -8.07225060e-01, -1.07331011e+00,  2.09607575e+00,  3.41331312e+00,\n",
       "        2.20189059e-01, -1.19412152e+00, -4.60461158e-01,  5.98862480e-01,\n",
       "        3.49388853e+00, -3.81540694e-01, -1.87756303e-01,  3.60166720e+00,\n",
       "        3.58589345e+00,  2.87328200e+00,  3.05574032e+00,  1.60456571e+00,\n",
       "        2.80894579e+00,  2.35807514e+00,  4.04400451e+00,  1.94140508e+00,\n",
       "        3.58925507e+00, -2.88966886e-01,  1.93243215e+00,  3.21766691e+00,\n",
       "        1.82645324e+00,  2.80356720e+00,  3.80414008e+00,  3.63926561e+00,\n",
       "        6.37857258e-01,  8.18608911e-01,  1.34897926e+00,  2.52977628e+00,\n",
       "        1.92520351e-01,  3.00909139e+00,  3.07684094e+00,  1.09325833e+00,\n",
       "        3.34039185e+00, -1.29181533e+00,  1.57294323e+00,  1.33213496e+00,\n",
       "        3.67810524e+00,  4.01819906e-01,  6.63095257e-01, -1.39864732e-02,\n",
       "        3.77466127e+00,  3.08449509e+00,  6.14222492e-01, -9.63566189e-01,\n",
       "        1.46096253e+00,  2.19997562e+00,  4.23742688e+00,  2.67913559e+00,\n",
       "        7.82096560e-01,  4.33584473e+00,  3.02253787e+00,  1.15035413e+00,\n",
       "        3.06908336e+00,  1.35988642e+00,  5.91622071e-01,  5.98603894e-01,\n",
       "        8.28280030e-01,  2.68234205e+00,  1.84405778e+00,  2.14846528e+00,\n",
       "        4.50589236e-01, -3.03861442e-01,  1.67298241e+00,  1.23934394e+00,\n",
       "       -2.05195490e+00,  8.53776615e-01, -1.10123741e+00, -1.48984053e+00,\n",
       "        4.04896936e+00,  1.17479569e+00,  3.23271662e+00,  3.32446295e+00,\n",
       "        6.42977262e-01,  2.85218138e+00,  2.77646881e-01,  1.07317137e+00,\n",
       "        1.77191227e+00,  1.88072671e-01,  2.95918429e+00,  1.11376047e-01,\n",
       "        9.68640541e-01,  1.34987914e+00,  1.79248537e+00,  1.09581316e+00,\n",
       "        2.33257855e+00,  2.70747662e+00,  1.39309404e+00,  3.52295361e+00,\n",
       "        4.26438732e-02,  9.99465433e-02,  1.83080266e+00,  2.44382228e+00,\n",
       "        3.23959501e+00, -4.14122537e-01,  2.83164964e+00,  1.42540695e+00,\n",
       "        7.36533697e-01,  2.07414908e-01,  1.48691940e+00,  2.23348838e+00,\n",
       "        1.06350542e+00,  2.20669886e+00,  2.71135541e+00, -5.32244647e-01,\n",
       "       -6.23420657e-02,  1.11763266e+00,  8.75187540e-01, -1.58644828e+00,\n",
       "        3.37519753e+00,  3.15384787e+00,  3.68720747e+00, -2.09446645e+00,\n",
       "        2.60595573e+00,  6.86885174e-01, -3.26048126e-01,  1.40373744e+00,\n",
       "        3.11624946e+00,  1.51715472e-01,  1.75755557e+00, -2.03788639e-01,\n",
       "        1.58171136e+00,  1.12487824e+00,  2.22929928e+00,  1.61022358e+00,\n",
       "        1.33648438e+00,  9.44126583e-01,  2.39939719e+00,  4.51897538e+00,\n",
       "        3.58330759e+00,  1.22015168e+00, -5.17712111e-01,  2.47195644e+00,\n",
       "        4.09453223e+00,  2.62896989e+00,  5.65558030e-02,  2.04586231e-03,\n",
       "        3.53764129e+00, -1.93755643e+00,  4.05326189e+00,  2.09762726e+00,\n",
       "        6.50527975e-01, -5.22470094e-01,  1.03788989e+00,  6.53889593e-01,\n",
       "        1.94989705e+00,  3.59861589e+00,  3.67800181e+00,  3.02264130e+00,\n",
       "        2.77207142e+00,  6.70801121e-01,  2.07683694e+00,  3.16796810e-01,\n",
       "        3.73152912e+00,  7.22570050e-01,  7.58720381e-01,  2.54384336e+00,\n",
       "        3.43689760e-01,  3.59184093e+00,  8.86255024e-01,  4.45774220e+00,\n",
       "        1.28373799e+00,  3.55579404e+00,  4.04431481e+00,  1.51543369e+00,\n",
       "        3.19708346e+00,  5.55730326e-01,  1.22332712e+00,  1.31446319e+00,\n",
       "        1.35871244e+00,  1.97827428e+00,  1.67098096e+00,  3.58320416e+00,\n",
       "        2.56359934e+00,  2.83320116e+00, -5.61826892e-01,  2.91610385e+00,\n",
       "        2.97795763e+00,  1.43548664e+00,  2.59788785e+00,  4.12571770e+00,\n",
       "        1.56044731e+00,  3.28877807e+00,  3.74994045e+00,  3.50671584e-01,\n",
       "        1.52268289e+00,  1.30624532e+00,  4.49348023e-01,  9.88861971e-01,\n",
       "        4.10037627e+00,  6.38219278e-01,  1.21483515e+00,  2.88269453e+00,\n",
       "        2.55475569e+00,  4.94186701e+00,  1.74650877e+00,  2.68999620e+00,\n",
       "        1.80387868e+00,  3.63321470e+00,  3.31065445e+00,  2.86578300e+00,\n",
       "        1.42672057e+00,  1.57094125e+00,  5.93432173e-01,  2.49466029e+00,\n",
       "        2.14081113e+00,  1.84468355e+00,  1.85807314e+00,  3.47764933e+00])"
      ]
     },
     "metadata": {},
     "execution_count": 109
    }
   ],
   "metadata": {}
  },
  {
   "cell_type": "code",
   "execution_count": 94,
   "source": [
    "mean_absolute_error(y_test, y_Hat)"
   ],
   "outputs": [
    {
     "output_type": "execute_result",
     "data": {
      "text/plain": [
       "7.570538109507172e-16"
      ]
     },
     "metadata": {},
     "execution_count": 94
    }
   ],
   "metadata": {}
  },
  {
   "cell_type": "code",
   "execution_count": 95,
   "source": [
    "mean_squared_error(y_test, y_Hat)"
   ],
   "outputs": [
    {
     "output_type": "execute_result",
     "data": {
      "text/plain": [
       "9.15922466847159e-31"
      ]
     },
     "metadata": {},
     "execution_count": 95
    }
   ],
   "metadata": {}
  },
  {
   "cell_type": "code",
   "execution_count": 110,
   "source": [
    "residuals = preds - y_test"
   ],
   "outputs": [],
   "metadata": {}
  },
  {
   "cell_type": "code",
   "execution_count": 112,
   "source": [
    "residuals"
   ],
   "outputs": [
    {
     "output_type": "execute_result",
     "data": {
      "text/plain": [
       "0      -5.245598\n",
       "1001    0.003827\n",
       "978     1.648264\n",
       "1116   -0.484206\n",
       "892     2.353636\n",
       "          ...   \n",
       "187    -3.872540\n",
       "466    -1.457689\n",
       "251    -8.265816\n",
       "802    -0.074627\n",
       "682     7.361649\n",
       "Name: Skewness, Length: 412, dtype: float64"
      ]
     },
     "metadata": {},
     "execution_count": 112
    }
   ],
   "metadata": {}
  },
  {
   "cell_type": "code",
   "execution_count": 111,
   "source": [
    "plt.hist(residuals)"
   ],
   "outputs": [
    {
     "output_type": "execute_result",
     "data": {
      "text/plain": [
       "(array([17., 28., 63., 64., 69., 71., 20., 52., 17., 11.]),\n",
       " array([-12.04668453,  -9.54378614,  -7.04088776,  -4.53798937,\n",
       "         -2.03509099,   0.4678074 ,   2.97070578,   5.47360417,\n",
       "          7.97650255,  10.47940094,  12.98229932]),\n",
       " <BarContainer object of 10 artists>)"
      ]
     },
     "metadata": {},
     "execution_count": 111
    },
    {
     "output_type": "display_data",
     "data": {
      "image/png": "[encoded data removed]",
      "text/plain": [
       "<Figure size 432x288 with 1 Axes>"
      ]
     },
     "metadata": {
      "needs_background": "light"
     }
    }
   ],
   "metadata": {}
  },
  {
   "cell_type": "code",
   "execution_count": 99,
   "source": [
    "\r\n",
    "bills.plot(\"Variance\", \"Skewness\")"
   ],
   "outputs": [
    {
     "output_type": "execute_result",
     "data": {
      "text/plain": [
       "<AxesSubplot:xlabel='Variance'>"
      ]
     },
     "metadata": {},
     "execution_count": 99
    },
    {
     "output_type": "display_data",
     "data": {
      "image/png": "[encoded data removed]",
      "text/plain": [
       "<Figure size 432x288 with 1 Axes>"
      ]
     },
     "metadata": {
      "needs_background": "light"
     }
    }
   ],
   "metadata": {}
  },
  {
   "cell_type": "code",
   "execution_count": 100,
   "source": [
    "bills.plot.scatter(\"Variance\", \"Skewness\")"
   ],
   "outputs": [
    {
     "output_type": "execute_result",
     "data": {
      "text/plain": [
       "<AxesSubplot:xlabel='Variance', ylabel='Skewness'>"
      ]
     },
     "metadata": {},
     "execution_count": 100
    },
    {
     "output_type": "display_data",
     "data": {
      "image/png": "[encoded data removed]",
      "text/plain": [
       "<Figure size 432x288 with 1 Axes>"
      ]
     },
     "metadata": {
      "needs_background": "light"
     }
    }
   ],
   "metadata": {}
  },
  {
   "cell_type": "markdown",
   "source": [
    "<h2>Summury</h2>\r\n",
    "We focused on the prediction accuracy. \r\n",
    "\r\n",
    "Our objective is to learn a model that has a good generalization performance.\r\n",
    "\r\n",
    "Such a model maximizes the prediction accuracy. \r\n",
    "\r\n",
    "We identified the machine learning algorithm that is best-suited for the problem at hand (i.e. bills classification); \r\n",
    "\r\n",
    "therefore, we compared different algorithms and selected the best-performing one."
   ],
   "metadata": {}
  }
 ],
 "metadata": {
  "orig_nbformat": 4,
  "language_info": {
   "name": "python",
   "version": "3.8.8",
   "mimetype": "text/x-python",
   "codemirror_mode": {
    "name": "ipython",
    "version": 3
   },
   "pygments_lexer": "ipython3",
   "nbconvert_exporter": "python",
   "file_extension": ".py"
  },
  "kernelspec": {
   "name": "python3",
   "display_name": "Python 3.8.8 64-bit ('base': conda)"
  },
  "interpreter": {
   "hash": "3a9ef25502bec08697e2bc7b9d2a63161dc9e40fb01ed92a4c8c51434a7b7b29"
  }
 },
 "nbformat": 4,
 "nbformat_minor": 2
}